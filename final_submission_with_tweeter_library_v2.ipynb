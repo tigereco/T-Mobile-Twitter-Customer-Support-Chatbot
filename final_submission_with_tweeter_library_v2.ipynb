{
 "cells": [
  {
   "cell_type": "code",
   "execution_count": 1,
   "id": "4f829ff1",
   "metadata": {},
   "outputs": [],
   "source": [
    "#libraries\n",
    "import numpy as np\n",
    "import pandas as pd\n",
    "import nltk\n",
    "import string\n",
    "from string import whitespace\n",
    "import collections\n",
    "import re\n",
    "from nltk.tokenize import sent_tokenize\n",
    "from nltk.tokenize import word_tokenize\n",
    "from nltk.tokenize import TweetTokenizer \n",
    "from nltk.stem import PorterStemmer\n",
    "from nltk.corpus import stopwords\n",
    "from nltk.stem import WordNetLemmatizer\n",
    "from sklearn.feature_extraction.text import CountVectorizer\n",
    "from sklearn.feature_extraction.text import TfidfTransformer\n",
    "from sklearn.feature_extraction.text import TfidfVectorizer\n",
    "from sklearn.metrics.pairwise import cosine_similarity\n",
    "from collections import defaultdict\n",
    "from nltk.tokenize import TweetTokenizer "
   ]
  },
  {
   "cell_type": "code",
   "execution_count": 2,
   "id": "8ffb693e",
   "metadata": {},
   "outputs": [],
   "source": [
    "df = pd.read_csv('C:/Users/eugen/Desktop/IU_Data_Science/NLP/Twitter/twcs/twcs.csv',  sep=',')"
   ]
  },
  {
   "cell_type": "code",
   "execution_count": 3,
   "id": "24bd872c",
   "metadata": {},
   "outputs": [
    {
     "data": {
      "text/plain": [
       "(2811774, 7)"
      ]
     },
     "execution_count": 3,
     "metadata": {},
     "output_type": "execute_result"
    }
   ],
   "source": [
    "df.shape"
   ]
  },
  {
   "cell_type": "code",
   "execution_count": 4,
   "id": "d8941a68",
   "metadata": {},
   "outputs": [
    {
     "data": {
      "text/html": [
       "<div>\n",
       "<style scoped>\n",
       "    .dataframe tbody tr th:only-of-type {\n",
       "        vertical-align: middle;\n",
       "    }\n",
       "\n",
       "    .dataframe tbody tr th {\n",
       "        vertical-align: top;\n",
       "    }\n",
       "\n",
       "    .dataframe thead th {\n",
       "        text-align: right;\n",
       "    }\n",
       "</style>\n",
       "<table border=\"1\" class=\"dataframe\">\n",
       "  <thead>\n",
       "    <tr style=\"text-align: right;\">\n",
       "      <th></th>\n",
       "      <th>tweet_id</th>\n",
       "      <th>author_id</th>\n",
       "      <th>inbound</th>\n",
       "      <th>created_at</th>\n",
       "      <th>text</th>\n",
       "      <th>response_tweet_id</th>\n",
       "      <th>in_response_to_tweet_id</th>\n",
       "    </tr>\n",
       "  </thead>\n",
       "  <tbody>\n",
       "    <tr>\n",
       "      <th>0</th>\n",
       "      <td>1</td>\n",
       "      <td>sprintcare</td>\n",
       "      <td>False</td>\n",
       "      <td>Tue Oct 31 22:10:47 +0000 2017</td>\n",
       "      <td>@115712 I understand. I would like to assist y...</td>\n",
       "      <td>2</td>\n",
       "      <td>3.0</td>\n",
       "    </tr>\n",
       "    <tr>\n",
       "      <th>1</th>\n",
       "      <td>2</td>\n",
       "      <td>115712</td>\n",
       "      <td>True</td>\n",
       "      <td>Tue Oct 31 22:11:45 +0000 2017</td>\n",
       "      <td>@sprintcare and how do you propose we do that</td>\n",
       "      <td>NaN</td>\n",
       "      <td>1.0</td>\n",
       "    </tr>\n",
       "    <tr>\n",
       "      <th>2</th>\n",
       "      <td>3</td>\n",
       "      <td>115712</td>\n",
       "      <td>True</td>\n",
       "      <td>Tue Oct 31 22:08:27 +0000 2017</td>\n",
       "      <td>@sprintcare I have sent several private messag...</td>\n",
       "      <td>1</td>\n",
       "      <td>4.0</td>\n",
       "    </tr>\n",
       "    <tr>\n",
       "      <th>3</th>\n",
       "      <td>4</td>\n",
       "      <td>sprintcare</td>\n",
       "      <td>False</td>\n",
       "      <td>Tue Oct 31 21:54:49 +0000 2017</td>\n",
       "      <td>@115712 Please send us a Private Message so th...</td>\n",
       "      <td>3</td>\n",
       "      <td>5.0</td>\n",
       "    </tr>\n",
       "    <tr>\n",
       "      <th>4</th>\n",
       "      <td>5</td>\n",
       "      <td>115712</td>\n",
       "      <td>True</td>\n",
       "      <td>Tue Oct 31 21:49:35 +0000 2017</td>\n",
       "      <td>@sprintcare I did.</td>\n",
       "      <td>4</td>\n",
       "      <td>6.0</td>\n",
       "    </tr>\n",
       "  </tbody>\n",
       "</table>\n",
       "</div>"
      ],
      "text/plain": [
       "   tweet_id   author_id  inbound                      created_at  \\\n",
       "0         1  sprintcare    False  Tue Oct 31 22:10:47 +0000 2017   \n",
       "1         2      115712     True  Tue Oct 31 22:11:45 +0000 2017   \n",
       "2         3      115712     True  Tue Oct 31 22:08:27 +0000 2017   \n",
       "3         4  sprintcare    False  Tue Oct 31 21:54:49 +0000 2017   \n",
       "4         5      115712     True  Tue Oct 31 21:49:35 +0000 2017   \n",
       "\n",
       "                                                text response_tweet_id  \\\n",
       "0  @115712 I understand. I would like to assist y...                 2   \n",
       "1      @sprintcare and how do you propose we do that               NaN   \n",
       "2  @sprintcare I have sent several private messag...                 1   \n",
       "3  @115712 Please send us a Private Message so th...                 3   \n",
       "4                                 @sprintcare I did.                 4   \n",
       "\n",
       "   in_response_to_tweet_id  \n",
       "0                      3.0  \n",
       "1                      1.0  \n",
       "2                      4.0  \n",
       "3                      5.0  \n",
       "4                      6.0  "
      ]
     },
     "execution_count": 4,
     "metadata": {},
     "output_type": "execute_result"
    }
   ],
   "source": [
    "df.head()"
   ]
  },
  {
   "cell_type": "code",
   "execution_count": 5,
   "id": "dcf02869",
   "metadata": {},
   "outputs": [
    {
     "data": {
      "text/plain": [
       "tweet_id                         0\n",
       "author_id                        0\n",
       "inbound                          0\n",
       "created_at                       0\n",
       "text                             0\n",
       "response_tweet_id          1040629\n",
       "in_response_to_tweet_id     794335\n",
       "dtype: int64"
      ]
     },
     "execution_count": 5,
     "metadata": {},
     "output_type": "execute_result"
    }
   ],
   "source": [
    "df.isna().sum()"
   ]
  },
  {
   "cell_type": "code",
   "execution_count": 6,
   "id": "95dee31a",
   "metadata": {},
   "outputs": [],
   "source": [
    "organization = \"TMobileHelp\"\n",
    "\n",
    "data = df.loc[df['author_id'] == organization]"
   ]
  },
  {
   "cell_type": "code",
   "execution_count": 29,
   "id": "cdf8a091",
   "metadata": {},
   "outputs": [
    {
     "data": {
      "text/plain": [
       "(34317, 7)"
      ]
     },
     "execution_count": 29,
     "metadata": {},
     "output_type": "execute_result"
    }
   ],
   "source": [
    "data.shape"
   ]
  },
  {
   "cell_type": "code",
   "execution_count": 8,
   "id": "b0ce33ab",
   "metadata": {},
   "outputs": [],
   "source": [
    "def preprocess_text(df):\n",
    "    df['text'] = df.apply(lambda row: row['text'].lower(), axis=1)\n",
    "    df['text'] = df.apply(lambda row: row['text'].rstrip('.'), axis=1)\n",
    "    df['text'] = df.apply(lambda row: re.sub(\"\\B@\\w+\", \"\", row['text']), axis=1)\n",
    "    df['text'] = df.apply(lambda row: re.sub(\"\\*\\w+\", \"\", row['text']), axis=1)"
   ]
  },
  {
   "cell_type": "code",
   "execution_count": 9,
   "id": "76d2d1b5",
   "metadata": {},
   "outputs": [
    {
     "name": "stderr",
     "output_type": "stream",
     "text": [
      "<ipython-input-8-8232c14b4411>:2: SettingWithCopyWarning: \n",
      "A value is trying to be set on a copy of a slice from a DataFrame.\n",
      "Try using .loc[row_indexer,col_indexer] = value instead\n",
      "\n",
      "See the caveats in the documentation: https://pandas.pydata.org/pandas-docs/stable/user_guide/indexing.html#returning-a-view-versus-a-copy\n",
      "  df['text'] = df.apply(lambda row: row['text'].lower(), axis=1)\n",
      "<ipython-input-8-8232c14b4411>:3: SettingWithCopyWarning: \n",
      "A value is trying to be set on a copy of a slice from a DataFrame.\n",
      "Try using .loc[row_indexer,col_indexer] = value instead\n",
      "\n",
      "See the caveats in the documentation: https://pandas.pydata.org/pandas-docs/stable/user_guide/indexing.html#returning-a-view-versus-a-copy\n",
      "  df['text'] = df.apply(lambda row: row['text'].rstrip('.'), axis=1)\n",
      "<ipython-input-8-8232c14b4411>:4: SettingWithCopyWarning: \n",
      "A value is trying to be set on a copy of a slice from a DataFrame.\n",
      "Try using .loc[row_indexer,col_indexer] = value instead\n",
      "\n",
      "See the caveats in the documentation: https://pandas.pydata.org/pandas-docs/stable/user_guide/indexing.html#returning-a-view-versus-a-copy\n",
      "  df['text'] = df.apply(lambda row: re.sub(\"\\B@\\w+\", \"\", row['text']), axis=1)\n",
      "<ipython-input-8-8232c14b4411>:5: SettingWithCopyWarning: \n",
      "A value is trying to be set on a copy of a slice from a DataFrame.\n",
      "Try using .loc[row_indexer,col_indexer] = value instead\n",
      "\n",
      "See the caveats in the documentation: https://pandas.pydata.org/pandas-docs/stable/user_guide/indexing.html#returning-a-view-versus-a-copy\n",
      "  df['text'] = df.apply(lambda row: re.sub(\"\\*\\w+\", \"\", row['text']), axis=1)\n"
     ]
    }
   ],
   "source": [
    "preprocess_text(data)"
   ]
  },
  {
   "cell_type": "code",
   "execution_count": 10,
   "id": "244172ef",
   "metadata": {},
   "outputs": [
    {
     "data": {
      "text/plain": [
       "620         hey, trevor! send us a dm, and we'll take a c...\n",
       "627          thanks for getting that dm sent over - i've ...\n",
       "630         yay for t-mobile tuesdays- lets's get you tak...\n",
       "632         well, we'd be happy to take a look at that an...\n",
       "634         hey we are here and we want to help! if you h...\n",
       "                                 ...                        \n",
       "2811607     spooky! but don't forget to use #tmoboletuesd...\n",
       "2811609      we want the best speeds for you where you ne...\n",
       "2811611     hey chris! send a dm our way and i'd be happy...\n",
       "2811613     i've just responded to your dm and look forwa...\n",
       "2811615     that's weird, let's check that out. dm us, we...\n",
       "Name: text, Length: 34317, dtype: object"
      ]
     },
     "execution_count": 10,
     "metadata": {},
     "output_type": "execute_result"
    }
   ],
   "source": [
    "data['text']"
   ]
  },
  {
   "cell_type": "code",
   "execution_count": 11,
   "id": "6854168b",
   "metadata": {},
   "outputs": [
    {
     "data": {
      "text/plain": [
       "\" hey, trevor! send us a dm, and we'll take a closer look!   thanks for getting that dm sent over - i've got it and am replying now. https://t.co/93xwcskfiy  yay for t-mobile tuesdays- lets's get you taken care of! send a dm my way: https://t.co/jgtdflsvbg  well, we'd be happy to take a look at that and see what's going on, jenny. dm us, we're here to keep you connected.  hey we are here and we want to help! if you have any questions feel free to shoot us a dm!  can i have you dm me at: https://t.co/ryd2pduspi  we want to help you with this great #tmobiletuesday deal! shoot me a dm here https://t.co/jab1jkomry\\xa0  you are welcome and thanks for letting us know. if you need anything else we are here for you. #happytmobiletuesday  we want this to work perfectly! do you have at least 10 photos selected? if not, add another and try. dm w/ any questions!  :o creepy! happy halloween!  no worries at all! i'll be able to help out 100%! shoot me a dm, and i'll dive right in!  we don't want things \""
      ]
     },
     "execution_count": 11,
     "metadata": {},
     "output_type": "execute_result"
    }
   ],
   "source": [
    "tweet = data['text']\n",
    "tweet = pd.Series(tweet).tolist()\n",
    "tweet = ''.join(tweet)\n",
    "tweet[:1000]"
   ]
  },
  {
   "cell_type": "code",
   "execution_count": 12,
   "id": "9c1293d2",
   "metadata": {},
   "outputs": [
    {
     "name": "stderr",
     "output_type": "stream",
     "text": [
      "IOPub data rate exceeded.\n",
      "The notebook server will temporarily stop sending output\n",
      "to the client in order to avoid crashing it.\n",
      "To change this limit, set the config variable\n",
      "`--NotebookApp.iopub_data_rate_limit`.\n",
      "\n",
      "Current values:\n",
      "NotebookApp.iopub_data_rate_limit=1000000.0 (bytes/sec)\n",
      "NotebookApp.rate_limit_window=3.0 (secs)\n",
      "\n"
     ]
    }
   ],
   "source": [
    "print('\\033[92m' + tweet) \n",
    "\n",
    "tweet2 = re.sub(r'^RT[\\s]+', '', tweet)\n",
    " \n",
    "tweet2 = re.sub(r'https?:\\/\\/.*[\\r\\n]*', '', tweet2)\n",
    "\n",
    "tweet2 = re.sub(r'#', '', tweet2)\n",
    "\n",
    "emoji_pattern = re.compile(\n",
    "    u\"(\\ud83d[\\ude00-\\ude4f])|\"  \n",
    "    u\"(\\ud83c[\\udf00-\\uffff])|\" \n",
    "    u\"(\\ud83d[\\u0000-\\uddff])|\"  \n",
    "    u\"(\\ud83d[\\ude80-\\udeff])|\" \n",
    "    u\"(\\ud83c[\\udde0-\\uddff])\"  \n",
    "    \"+\", flags=re.UNICODE)\n",
    "\n",
    "tweet2 = emoji_pattern.sub(r'', tweet2)\n",
    "print('\\033[94m' + tweet2) \n"
   ]
  },
  {
   "cell_type": "code",
   "execution_count": 13,
   "id": "87c43de7",
   "metadata": {},
   "outputs": [
    {
     "data": {
      "text/plain": [
       "\" hey, trevor! send us a dm, and we'll take a closer look!   thanks for getting that dm sent over - i've got it and am replying now. hit me up on this link &gt;&gt;please shoot me a dm   if you need any further assistance, you know where we are, 😃 😄  hey there.\\n\\nmy name is louise and i will be assisting you today.\\n\\nsorry to hear you having issues with the app,  would you like me to help with that payment arrangment?  let me take a look into this for you so we can get this resolved! t-force is here to help so send me a dm and we can get to the bottom of the issue! my name is louise and i am stepping in here for meghan.\\n\\ni think what meghan is suggesting is that you recevie your notifications directly through the twitter app instead of via text message,\\n\\ndoes that make sense?  let's take a closer look to see what's going on, laura. send us a dm!  hi iris. i know how important this is to get resolved as quickly as possible. you can always reach out in a dm here on twitter as well  hey ther\""
      ]
     },
     "execution_count": 13,
     "metadata": {},
     "output_type": "execute_result"
    }
   ],
   "source": [
    "tweet2[:1000]"
   ]
  },
  {
   "cell_type": "code",
   "execution_count": 14,
   "id": "513a21f1",
   "metadata": {},
   "outputs": [],
   "source": [
    "tweet = tweet2"
   ]
  },
  {
   "cell_type": "code",
   "execution_count": 15,
   "id": "a861db89",
   "metadata": {},
   "outputs": [],
   "source": [
    "sent_tokens=sent_tokenize(text=tweet)"
   ]
  },
  {
   "cell_type": "code",
   "execution_count": 16,
   "id": "2452242f",
   "metadata": {},
   "outputs": [
    {
     "data": {
      "text/plain": [
       "\"send us a dm, and we'll take a closer look!\""
      ]
     },
     "execution_count": 16,
     "metadata": {},
     "output_type": "execute_result"
    }
   ],
   "source": [
    "sent_tokens[1]"
   ]
  },
  {
   "cell_type": "code",
   "execution_count": 17,
   "id": "53d7ebaa",
   "metadata": {},
   "outputs": [],
   "source": [
    "word_tokens = word_tokenize(tweet)"
   ]
  },
  {
   "cell_type": "code",
   "execution_count": 21,
   "id": "27cc8726",
   "metadata": {},
   "outputs": [],
   "source": [
    "lemmatizer = nltk.stem.WordNetLemmatizer()\n",
    "\n",
    "def lemmatization(tokens):\n",
    "    return [lemmatizer.lemmatize(token) for token in tokens]\n",
    "\n",
    "punct_remove = dict((ord(punct), None) for punct in string.punctuation)\n",
    "\n",
    "def perform_lemmatization(text):\n",
    "    return lemmatization(nltk.word_tokenize(text.lower().translate(punct_remove)))"
   ]
  },
  {
   "cell_type": "code",
   "execution_count": 22,
   "id": "9748863b",
   "metadata": {},
   "outputs": [],
   "source": [
    "def response(user_response):\n",
    "    robo_response=''\n",
    "    sent_tokens.append(user_response)\n",
    "    vectorizer = TfidfVectorizer(tokenizer=perform_lemmatization, stop_words='english')\n",
    "    vectors = vectorizer.fit_transform(sent_tokens)\n",
    "    vals = cosine_similarity(vectors[-1], vectors)\n",
    "    idx = vals.argsort()[0][-2]\n",
    "    flat = vals.flatten()\n",
    "    flat.sort()\n",
    "    req_diff = flat[-2]\n",
    "    if(req_diff==0):\n",
    "        robo_response=robo_response+\"I have no answer for your question. I'm sorry! Anything else?\"\n",
    "        return robo_response\n",
    "    else:\n",
    "        robo_response = sent_tokens[idx]        \n",
    "        return robo_response"
   ]
  },
  {
   "cell_type": "code",
   "execution_count": 28,
   "id": "382eb60a",
   "metadata": {},
   "outputs": [
    {
     "name": "stdout",
     "output_type": "stream",
     "text": [
      "TMobileHelp: Welcome to TMobileHelp Customer Support Service. I will assist you with any problem related to TMobileHelp. To end this conversation, type bye!\n",
      "Hi\n",
      "TMobileHelp: hi\n",
      "I encounter connectivity issues\n",
      "TMobileHelp: t-force is here to help so send me a dm and we can get to the bottom of the issue!\n",
      "also, my internet speed is very low\n",
      "TMobileHelp: please dm me  i would love to take a look at that speed problem for you.\n",
      "ok, i will send you a direct message\n",
      "TMobileHelp: i definitely want to make sure we can get you... can you come over to a direct message please?\n",
      "i will send you a dm!\n",
      "TMobileHelp: send me a dm!\n",
      "thank you\n",
      "TMobileHelp: You are welcome!\n",
      "bye\n",
      "TMobileHelp: Thank you for contacting us. I hope we could help you with your issue.\n"
     ]
    }
   ],
   "source": [
    "dialogue=True\n",
    "\n",
    "print(\"{name}: Welcome to {name} Customer Support Service. I will assist you with any problem related to {name}. To end this conversation, type bye!\".format(name = organization))\n",
    "while(dialogue==True):\n",
    "    user_response = input()\n",
    "    user_response=user_response.lower()\n",
    "    if(user_response!='bye'):\n",
    "        if(user_response=='Thanks' or user_response=='Thank you' or user_response=='thanks' or user_response=='thank you'):\n",
    "            print(\"{name}: You are welcome!\".format(name = organization))\n",
    "        else:\n",
    "            print(\"{name}: \".format(name = organization), end=\"\")\n",
    "            print(response(user_response))\n",
    "            sent_tokens.remove(user_response)\n",
    "    else:\n",
    "        dialogue=False\n",
    "        print(\"{name}: Thank you for contacting us. I hope we could help you with your issue.\".format(name = organization))"
   ]
  },
  {
   "cell_type": "code",
   "execution_count": null,
   "id": "64ac4a74",
   "metadata": {},
   "outputs": [],
   "source": []
  }
 ],
 "metadata": {
  "kernelspec": {
   "display_name": "Python 3",
   "language": "python",
   "name": "python3"
  },
  "language_info": {
   "codemirror_mode": {
    "name": "ipython",
    "version": 3
   },
   "file_extension": ".py",
   "mimetype": "text/x-python",
   "name": "python",
   "nbconvert_exporter": "python",
   "pygments_lexer": "ipython3",
   "version": "3.8.5"
  }
 },
 "nbformat": 4,
 "nbformat_minor": 5
}
